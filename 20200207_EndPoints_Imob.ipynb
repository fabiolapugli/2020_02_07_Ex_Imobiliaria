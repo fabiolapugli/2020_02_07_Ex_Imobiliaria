{
 "cells": [
  {
   "cell_type": "markdown",
   "metadata": {},
   "source": [
    "Restaurar o banco imobiliária com arquivo imobiliaria.backup; \n",
    "● Criar endpoint de get, que deve selecionar os dados dentro de um intervalo de area, plotar o gráfico de dispersão em que o eixo x é a área e o eixo y o preco e retornar o json com esses dados; \n",
    "● Criar endpoint de get, que deve selecionar os 15 dados com maior preco em ordem decrescente, plotar o gráfico de linha em que o eixo x é o preco e o eixo y a qte_quartos e retornar o json com esses dados; \n",
    "● Criar endpoint de get, que deve selecionar todos os dados com determinada quantidade de qte_banheiros, plotar o gráfico de barra em que o eixo x é o qte_banheiros e o eixo y a qte_quartos e retornar o json com esses dados; \n",
    "● Criar endpoint de put, que atualize os dados pelo cep; \n",
    "● Criar endpoint de delete, que delete os dados pelo cep;"
   ]
  },
  {
   "cell_type": "code",
   "execution_count": 2,
   "metadata": {},
   "outputs": [],
   "source": [
    "\n",
    "import psycopg2\n",
    "\n",
    "import pandas as pd\n",
    "import seaborn as sns\n",
    "import matplotlib.pyplot as plt\n",
    "from flask import Flask, request\n",
    "%matplotlib inline\n",
    "\n",
    "con = psycopg2.connect(host = 'localhost' , database = 'imobiliaria', user = 'postgres', password = 'postgres')\n"
   ]
  },
  {
   "cell_type": "markdown",
   "metadata": {},
   "source": [
    "* Criar endpoint de get, que deve selecionar os dados dentro de um intervalo de area, plotar o gráfico de dispersão em que o eixo x é a área e o eixo y o preco e retornar o json com esses dados; "
   ]
  },
  {
   "cell_type": "code",
   "execution_count": null,
   "metadata": {},
   "outputs": [
    {
     "name": "stdout",
     "output_type": "stream",
     "text": [
      " * Serving Flask app \"__main__\" (lazy loading)\n",
      " * Environment: production\n",
      "   WARNING: This is a development server. Do not use it in a production deployment.\n",
      "   Use a production WSGI server instead.\n",
      " * Debug mode: off\n"
     ]
    },
    {
     "name": "stderr",
     "output_type": "stream",
     "text": [
      " * Running on http://127.0.0.1:5000/ (Press CTRL+C to quit)\n"
     ]
    },
    {
     "data": {
      "image/png": "[encoded data removed]",
      "text/plain": [
       "<Figure size 432x288 with 1 Axes>"
      ]
     },
     "metadata": {
      "needs_background": "light"
     },
     "output_type": "display_data"
    },
    {
     "name": "stderr",
     "output_type": "stream",
     "text": [
      "127.0.0.1 - - [29/Feb/2020 18:44:33] \"GET /area/5000/6000 HTTP/1.1\" 200 -\n"
     ]
    }
   ],
   "source": [
    "\n",
    "con = psycopg2.connect(host = 'localhost' , database = 'imobiliaria', user = 'postgres', password = 'postgres')\n",
    "\n",
    "app = Flask(__name__)\n",
    "\n",
    "@app.route('/area/<a_min>/<a_max>', methods = ['GET'])\n",
    "\n",
    "def area_preco(a_min,a_max):\n",
    "    \n",
    "    query = 'SELECT * FROM info_casas WHERE area BETWEEN {} AND {};'.format(a_min, a_max)\n",
    "    df = pd.read_sql(query,con)\n",
    "    sns.scatterplot(df['area'],df['preco'])\n",
    "    plt.show()\n",
    "        \n",
    "    return df.to_json(orient = 'records'),200\n",
    "    \n",
    "\n",
    "    \n",
    "app.run()"
   ]
  },
  {
   "cell_type": "markdown",
   "metadata": {},
   "source": [
    "* Criar endpoint de get, que deve selecionar os 15 dados com maior preco em ordem decrescente, plotar o gráfico de linha em que o eixo x é o preco e o eixo y a qte_quartos e retornar o json com esses dados;"
   ]
  },
  {
   "cell_type": "code",
   "execution_count": null,
   "metadata": {
    "scrolled": true
   },
   "outputs": [
    {
     "name": "stdout",
     "output_type": "stream",
     "text": [
      " * Serving Flask app \"__main__\" (lazy loading)\n",
      " * Environment: production\n",
      "   WARNING: This is a development server. Do not use it in a production deployment.\n",
      "   Use a production WSGI server instead.\n",
      " * Debug mode: off\n"
     ]
    },
    {
     "name": "stderr",
     "output_type": "stream",
     "text": [
      " * Running on http://127.0.0.1:5000/ (Press CTRL+C to quit)\n"
     ]
    },
    {
     "data": {
      "image/png": "[encoded data removed]",
      "text/plain": [
       "<Figure size 432x288 with 1 Axes>"
      ]
     },
     "metadata": {
      "needs_background": "light"
     },
     "output_type": "display_data"
    },
    {
     "name": "stderr",
     "output_type": "stream",
     "text": [
      "[2020-02-29 18:45:31,126] ERROR in app: Exception on /maior_preco15 [GET]\n",
      "Traceback (most recent call last):\n",
      "  File \"C:\\ProgramData\\Anaconda3\\lib\\site-packages\\flask\\app.py\", line 2446, in wsgi_app\n",
      "    response = self.full_dispatch_request()\n",
      "  File \"C:\\ProgramData\\Anaconda3\\lib\\site-packages\\flask\\app.py\", line 1951, in full_dispatch_request\n",
      "    rv = self.handle_user_exception(e)\n",
      "  File \"C:\\ProgramData\\Anaconda3\\lib\\site-packages\\flask\\app.py\", line 1820, in handle_user_exception\n",
      "    reraise(exc_type, exc_value, tb)\n",
      "  File \"C:\\ProgramData\\Anaconda3\\lib\\site-packages\\flask\\_compat.py\", line 39, in reraise\n",
      "    raise value\n",
      "  File \"C:\\ProgramData\\Anaconda3\\lib\\site-packages\\flask\\app.py\", line 1949, in full_dispatch_request\n",
      "    rv = self.dispatch_request()\n",
      "  File \"C:\\ProgramData\\Anaconda3\\lib\\site-packages\\flask\\app.py\", line 1935, in dispatch_request\n",
      "    return self.view_functions[rule.endpoint](**req.view_args)\n",
      "  File \"<ipython-input-2-f10d6729a62f>\", line 10, in maior_preco15\n",
      "    return df.to_jason(orient = 'records'),200\n",
      "  File \"C:\\ProgramData\\Anaconda3\\lib\\site-packages\\pandas\\core\\generic.py\", line 5179, in __getattr__\n",
      "    return object.__getattribute__(self, name)\n",
      "AttributeError: 'DataFrame' object has no attribute 'to_jason'\n",
      "127.0.0.1 - - [29/Feb/2020 18:45:31] \"GET /maior_preco15 HTTP/1.1\" 500 -\n"
     ]
    }
   ],
   "source": [
    "\n",
    "app = Flask(__name__)\n",
    "\n",
    "@app.route('/maior_preco15', methods=['GET'])\n",
    "\n",
    "def maior_preco15 ():\n",
    "    query = 'SELECT * from info_casas ORDER BY preco DESC LIMIT 15;'\n",
    "    df = pd.read_sql(query,con)\n",
    "    plt.plot(df['preco'],df['qte_quartos'])\n",
    "    plt.show()\n",
    "    return df.to_jason(orient = 'records'),200\n",
    "\n",
    "app.run()"
   ]
  },
  {
   "cell_type": "markdown",
   "metadata": {},
   "source": [
    "* Criar endpoint de get, que deve selecionar todos os dados com determinada quantidade de qte_banheiros,plotar o histograma com a quantidade de quartos; "
   ]
  },
  {
   "cell_type": "code",
   "execution_count": null,
   "metadata": {},
   "outputs": [
    {
     "name": "stdout",
     "output_type": "stream",
     "text": [
      " * Serving Flask app \"__main__\" (lazy loading)\n",
      " * Environment: production\n",
      "   WARNING: This is a development server. Do not use it in a production deployment.\n",
      "   Use a production WSGI server instead.\n",
      " * Debug mode: off\n"
     ]
    },
    {
     "name": "stderr",
     "output_type": "stream",
     "text": [
      " * Running on http://127.0.0.1:5000/ (Press CTRL+C to quit)\n"
     ]
    },
    {
     "data": {
      "image/png": "[encoded data removed]",
      "text/plain": [
       "<Figure size 432x288 with 1 Axes>"
      ]
     },
     "metadata": {
      "needs_background": "light"
     },
     "output_type": "display_data"
    },
    {
     "name": "stderr",
     "output_type": "stream",
     "text": [
      "127.0.0.1 - - [29/Feb/2020 18:47:51] \"GET /qte_banheiros/3 HTTP/1.1\" 200 -\n",
      "127.0.0.1 - - [29/Feb/2020 18:49:41] \"PUT /up_cep/62088 HTTP/1.1\" 404 -\n"
     ]
    }
   ],
   "source": [
    "app = Flask(__name__)\n",
    "\n",
    "@app.route(\"/qte_banheiros/<b>\", methods = ['GET'])\n",
    "\n",
    "def qte_banheiros(b):\n",
    "    \n",
    "    query = \"SELECT * FROM info_casas WHERE qte_banheiros = {};\".format(b)\n",
    "    df = pd.read_sql(query, con)\n",
    "    plt.hist(df['qte_quartos'])\n",
    "    plt.show()\n",
    "    return df.to_json(orient = 'records'), 200\n",
    "    \n",
    "app.run()"
   ]
  },
  {
   "cell_type": "markdown",
   "metadata": {},
   "source": [
    "* Criar endpoint de put, que atualize os dados pelo cep;"
   ]
  },
  {
   "cell_type": "code",
   "execution_count": null,
   "metadata": {},
   "outputs": [
    {
     "name": "stdout",
     "output_type": "stream",
     "text": [
      " * Serving Flask app \"__main__\" (lazy loading)\n",
      " * Environment: production\n",
      "   WARNING: This is a development server. Do not use it in a production deployment.\n",
      "   Use a production WSGI server instead.\n",
      " * Debug mode: off\n"
     ]
    },
    {
     "name": "stderr",
     "output_type": "stream",
     "text": [
      " * Running on http://127.0.0.1:5000/ (Press CTRL+C to quit)\n",
      "127.0.0.1 - - [29/Feb/2020 18:50:52] \"PUT /up_cep/62088 HTTP/1.1\" 200 -\n"
     ]
    }
   ],
   "source": [
    "cur = con.cursor()\n",
    "\n",
    "app = Flask(__name__)\n",
    "\n",
    "@app.route(\"/up_cep/<cep>\", methods = ['PUT'])\n",
    "\n",
    "def up_cep(cep):\n",
    "    post_args = request.json\n",
    "    \n",
    "    query = \"UPDATE info_casas SET qte_quartos = {}, qte_banheiros = {}, area = {}, preco = {} WHERE cep = {}\".format(\n",
    "        post_args[\"qte_quartos\"], post_args[\"qte_banheiros\"], post_args[\"area\"], post_args[\"preco\"], cep)\n",
    "\n",
    "    \n",
    "    cur.execute(query)\n",
    "    con.commit()\n",
    "    return \"sucesso\", 200\n",
    "    \n",
    "app.run()"
   ]
  },
  {
   "cell_type": "markdown",
   "metadata": {},
   "source": [
    "* Criar endpoint de delete, que delete os dados pelo cep;"
   ]
  },
  {
   "cell_type": "code",
   "execution_count": null,
   "metadata": {},
   "outputs": [
    {
     "name": "stdout",
     "output_type": "stream",
     "text": [
      " * Serving Flask app \"__main__\" (lazy loading)\n",
      " * Environment: production\n",
      "   WARNING: This is a development server. Do not use it in a production deployment.\n",
      "   Use a production WSGI server instead.\n",
      " * Debug mode: off\n"
     ]
    },
    {
     "name": "stderr",
     "output_type": "stream",
     "text": [
      " * Running on http://127.0.0.1:5000/ (Press CTRL+C to quit)\n",
      "127.0.0.1 - - [29/Feb/2020 18:42:27] \"DELETE /del/62088 HTTP/1.1\" 200 -\n"
     ]
    }
   ],
   "source": [
    "\n",
    "cur = con.cursor()\n",
    "\n",
    "app = Flask(__name__)\n",
    "\n",
    "@app.route(\"/del/<cep>\", methods = ['DELETE'])\n",
    "\n",
    "def delete(cep):\n",
    "    \n",
    "    sql = \"DELETE FROM info_casas WHERE cep = {};\"\n",
    "    cur.execute(sql.format(int(cep)))\n",
    "    con.commit()\n",
    "    return 'OK'\n",
    "\n",
    "app.run()"
   ]
  },
  {
   "cell_type": "code",
   "execution_count": null,
   "metadata": {},
   "outputs": [],
   "source": []
  }
 ],
 "metadata": {
  "kernelspec": {
   "display_name": "Python 3",
   "language": "python",
   "name": "python3"
  },
  "language_info": {
   "codemirror_mode": {
    "name": "ipython",
    "version": 3
   },
   "file_extension": ".py",
   "mimetype": "text/x-python",
   "name": "python",
   "nbconvert_exporter": "python",
   "pygments_lexer": "ipython3",
   "version": "3.7.4"
  }
 },
 "nbformat": 4,
 "nbformat_minor": 2
}
